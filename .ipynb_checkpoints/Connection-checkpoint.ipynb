{
 "cells": [
  {
   "cell_type": "code",
   "execution_count": 8,
   "id": "ed4457f8-ea34-4cc3-ab7b-8a9a2a0f0823",
   "metadata": {},
   "outputs": [],
   "source": [
    "import cx_Oracle"
   ]
  },
  {
   "cell_type": "code",
   "execution_count": 31,
   "id": "02839ad9-a597-4904-924a-a12d87a7fc87",
   "metadata": {},
   "outputs": [
    {
     "name": "stdout",
     "output_type": "stream",
     "text": [
      "(1, 'ZV', 'sLGUdBs6', 730398109, '3ORsU22JGq')\n",
      "(2, 'IN', 'v1dmg3d2', 267709795, 'w3DG8Q4f21')\n",
      "(3, 'TN', '4Ap28jYi', 668689759, '77VfY0Gl2I')\n",
      "(4, 'SK', 'y993c9o57', 185527060, 'Xg8At5vDr3')\n",
      "(5, 'JT', 'QO1DRr', 688784442, '6PF3LY7baH')\n",
      "(6, 'PA', '1RCCg7W', 164472113, 'HkJJHLr1xD')\n",
      "(7, 'EN', '5lHgL', 456912688, 'zPoIxpDC5x')\n",
      "(8, 'CJ', 'xK6PhPj5q', 367364371, 'ahTyRP0PDY')\n",
      "(9, 'WV', 'Y08DjsS1k', 376470239, '6cgKhcF2DI')\n",
      "(10, 'IU', 'Bk96V3l5ti', 997154327, 'X1Zi5bJn2Q')\n",
      "(11, 'XO', 'cW9F1N9cLk', 919816951, 'Kww0e69sY4')\n",
      "(12, 'YD', '22blu7v', 128289750, '2dltaBntBk')\n",
      "(13, 'FV', '1YSOTpMM', 921922701, 'LM4l60nAWY')\n",
      "(14, 'TT', 'Xci0S9Bf', 360536389, 'G1uFy877xO')\n",
      "(15, 'BA', 'NFsmtd', 519465168, 'VI5ztB3b4Z')\n",
      "(16, 'VE', 'RFCs1', 871850930, 'PEQtkzc46K')\n",
      "(17, 'ZS', 'Eq6YdH', 300256832, 'KG52OVbn88')\n",
      "(18, 'GC', '54iS0g0B', 840108238, '5QEdC2QzLB')\n",
      "(19, 'PF', 'GYUo4J9', 221122870, 'Qc23T4pXA0')\n",
      "(20, 'GR', '2q29EdB12V', 233284824, '59A9gq2kMu')\n",
      "(21, 'AG', '9706N', 260892332, '20vHOLApOd')\n",
      "(22, 'GE', 'WA0244pc', 898726050, 'Bfq4XxHi87')\n",
      "(23, 'UU', 'ogQ0c', 250328786, '2hWY7cgw1O')\n",
      "(24, 'RK', 'TkCYa2HF', 446454621, '1x0Q8qgE78')\n",
      "(25, 'JA', 'iBuVm', 388917938, 'VgqB22l7wE')\n",
      "(26, 'SE', 'WWNLCO632b', 845021491, 'X5E31yUrBW')\n",
      "(27, 'XQ', 'HXeNl9q7', 842352979, 'b4yMT5312P')\n",
      "(28, 'SJ', 'z7yagr2Zgy', 968652694, '10n14EGAo9')\n",
      "(29, 'NS', '0GK3h', 173218978, 'icMv26HkpQ')\n",
      "(30, 'PU', 'y0Yp8K', 136177110, '7n2L6D7Esx')\n",
      "(31, 'PP', '8aYl8Ou', 799255143, 'yIkkIWyT0f')\n",
      "(32, 'XT', 'L64sLX', 470205287, 'mVBhZRZ0Yk')\n",
      "(33, 'XM', 'nyH7Z9Qd', 713357870, 'd8bu6Ps03y')\n",
      "(34, 'RX', 'av5BwtPh', 916818143, '6Kr0YG4JZW')\n",
      "(35, 'WJ', '8H9WcuVK', 265814739, 'FL2106YIVy')\n",
      "(36, 'WM', '1YFk9n2l', 464176705, 'cP5i1Nv2et')\n",
      "(37, 'GQ', 'Q5350vAJ', 209424466, 'zy8RX61jwe')\n",
      "(38, 'CW', 'K1xtF02A54', 440975969, 'O9cR63FjqC')\n",
      "(39, 'UD', 'H59v0YFqA', 930240254, 'i4tMA8so75')\n",
      "(40, 'PL', 'O53fw9Ju', 214229369, 'JH8b4vP691')\n",
      "(41, 'LU', 'pS2nnKf7', 118733598, 'BarhbTdG73')\n",
      "(42, 'OA', 'rt8ZPYyY', 448038366, '7065w9mZ58')\n",
      "(43, 'NP', 'BeOyXcZ', 941120204, 'uYM6QAVJes')\n",
      "(44, 'CH', '6AG2l', 739507276, 'dVDXYPM3W9')\n",
      "(45, 'BG', 'd71Dc', 615410211, 'tK5woQ7uxo')\n",
      "(46, 'VP', 'ht4fqp8QW', 869969317, 'R915d9XNjw')\n",
      "(47, 'ME', 'NWU41', 212264338, '1c2i4rs4fR')\n",
      "(48, 'ZE', 'uQNYFHLXd8', 747061507, '8bKLZZ2Iff')\n",
      "(49, 'HL', 'oOC7p', 305443045, '3DlSUw6B3z')\n",
      "(50, 'XW', 'C89PmGuo0', 439945239, '3QEDXpY1Al')\n",
      "(51, 'WA', 'bh6ng7', 689373703, 'cdxtt3uc50')\n",
      "(52, 'LU', 'bp8p2iY8P', 954974743, '56K4898S22')\n",
      "(53, 'SW', 'm0IMsQiL', 608627462, 'K79LjN8LLq')\n",
      "(54, 'WM', 'PS049R0', 975405351, 'KNyh3H8xW5')\n",
      "(55, 'EP', 'i0WEr3wB', 558265726, 'JRCmb9lHg3')\n",
      "(56, 'UK', 'Hp3c56R29', 353453459, '1vO2X7qL21')\n",
      "(57, 'TN', 'lX1rv', 355959527, '8qf8r4lT1g')\n",
      "(58, 'VR', 'v04997Bw', 721806718, '55lXg36Caz')\n",
      "(59, 'AH', '36S3amtf', 957079221, '91Q17GY0ps')\n",
      "(60, 'RS', 'D5C7h', 515401152, 'HhX44XWn7a')\n",
      "(61, 'JT', 'wbQfX8', 576560690, 'Q6tV2sj97H')\n",
      "(62, 'SO', '4lgOPE4zRS', 352669321, '6C453gdqmS')\n",
      "(63, 'UX', 'aL0Vlh', 421091979, 'YqGzDkmalA')\n",
      "(64, 'WT', '66YpAs80jG', 872034203, 'sBri0Jf9ej')\n",
      "(65, 'DK', 'Cn3E24A2F5', 610582093, 'bd7NnYBDF0')\n",
      "(66, 'SA', 'W5DkG', 380844819, 'XCJT9YE0S0')\n",
      "(67, 'BP', '0aI9kRsm', 302134726, 'K75h3nTI6F')\n",
      "(68, 'BL', 'xR9Ku', 303253709, '5Lyb4epG7F')\n",
      "(69, 'FT', '8C8t01wT', 776349395, 'xagWWphUK6')\n",
      "(70, 'IP', 'Y2l6Rv4Z0', 175728305, 'P1oK29Yj0D')\n"
     ]
    }
   ],
   "source": [
    "import oracledb\n",
    "\n",
    "conn = oracledb.connect(\n",
    "    user=\"S25_crc140\",\n",
    "    password=\"xs43qECa\",\n",
    "    dsn=\"oracle2.wiu.edu:1521/orclpdb1\"  # or your database info\n",
    ")\n",
    "\n",
    "cursor = conn.cursor()\n",
    "for x in cursor.execute(\"Select * from Hospitals\"):\n",
    "    print(x)"
   ]
  }
 ],
 "metadata": {
  "kernelspec": {
   "display_name": "Python [conda env:base] *",
   "language": "python",
   "name": "conda-base-py"
  },
  "language_info": {
   "codemirror_mode": {
    "name": "ipython",
    "version": 3
   },
   "file_extension": ".py",
   "mimetype": "text/x-python",
   "name": "python",
   "nbconvert_exporter": "python",
   "pygments_lexer": "ipython3",
   "version": "3.12.7"
  }
 },
 "nbformat": 4,
 "nbformat_minor": 5
}
