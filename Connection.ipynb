{
 "cells": [
  {
   "cell_type": "code",
   "execution_count": 8,
   "id": "ed4457f8-ea34-4cc3-ab7b-8a9a2a0f0823",
   "metadata": {},
   "outputs": [],
   "source": [
    "import cx_Oracle"
   ]
  },
  {
   "cell_type": "code",
   "execution_count": 1,
   "id": "02839ad9-a597-4904-924a-a12d87a7fc87",
   "metadata": {},
   "outputs": [
    {
     "ename": "KeyboardInterrupt",
     "evalue": "",
     "output_type": "error",
     "traceback": [
      "\u001b[31m---------------------------------------------------------------------------\u001b[39m",
      "\u001b[31mTimeoutError\u001b[39m                              Traceback (most recent call last)",
      "\u001b[36mFile \u001b[39m\u001b[32mc:\\Users\\codyc\\anaconda3\\Lib\\socket.py:850\u001b[39m, in \u001b[36mcreate_connection\u001b[39m\u001b[34m(address, timeout, source_address, all_errors)\u001b[39m\n\u001b[32m    849\u001b[39m     sock.bind(source_address)\n\u001b[32m--> \u001b[39m\u001b[32m850\u001b[39m \u001b[43msock\u001b[49m\u001b[43m.\u001b[49m\u001b[43mconnect\u001b[49m\u001b[43m(\u001b[49m\u001b[43msa\u001b[49m\u001b[43m)\u001b[49m\n\u001b[32m    851\u001b[39m \u001b[38;5;66;03m# Break explicitly a reference cycle\u001b[39;00m\n",
      "\u001b[31mTimeoutError\u001b[39m: timed out",
      "\nDuring handling of the above exception, another exception occurred:\n",
      "\u001b[31mKeyboardInterrupt\u001b[39m                         Traceback (most recent call last)",
      "\u001b[36mCell\u001b[39m\u001b[36m \u001b[39m\u001b[32mIn[1]\u001b[39m\u001b[32m, line 3\u001b[39m\n\u001b[32m      1\u001b[39m \u001b[38;5;28;01mimport\u001b[39;00m \u001b[34;01moracledb\u001b[39;00m\n\u001b[32m----> \u001b[39m\u001b[32m3\u001b[39m conn = \u001b[43moracledb\u001b[49m\u001b[43m.\u001b[49m\u001b[43mconnect\u001b[49m\u001b[43m(\u001b[49m\n\u001b[32m      4\u001b[39m \u001b[43m    \u001b[49m\u001b[43muser\u001b[49m\u001b[43m=\u001b[49m\u001b[33;43m\"\u001b[39;49m\u001b[33;43mS25_crc140\u001b[39;49m\u001b[33;43m\"\u001b[39;49m\u001b[43m,\u001b[49m\n\u001b[32m      5\u001b[39m \u001b[43m    \u001b[49m\u001b[43mpassword\u001b[49m\u001b[43m=\u001b[49m\u001b[33;43m\"\u001b[39;49m\u001b[33;43mxs43qECa\u001b[39;49m\u001b[33;43m\"\u001b[39;49m\u001b[43m,\u001b[49m\n\u001b[32m      6\u001b[39m \u001b[43m    \u001b[49m\u001b[43mdsn\u001b[49m\u001b[43m=\u001b[49m\u001b[33;43m\"\u001b[39;49m\u001b[33;43moracle2.wiu.edu:1521/orclpdb1\u001b[39;49m\u001b[33;43m\"\u001b[39;49m\u001b[43m  \u001b[49m\u001b[38;5;66;43;03m# or your database info\u001b[39;49;00m\n\u001b[32m      7\u001b[39m \u001b[43m)\u001b[49m\n\u001b[32m      9\u001b[39m cursor = conn.cursor()\n\u001b[32m     10\u001b[39m \u001b[38;5;28;01mfor\u001b[39;00m x \u001b[38;5;129;01min\u001b[39;00m cursor.execute(\u001b[33m\"\u001b[39m\u001b[33mSelect * from Hospitals\u001b[39m\u001b[33m\"\u001b[39m):\n",
      "\u001b[36mFile \u001b[39m\u001b[32mc:\\Users\\codyc\\anaconda3\\Lib\\site-packages\\oracledb\\connection.py:1264\u001b[39m, in \u001b[36m_connection_factory.<locals>.connect\u001b[39m\u001b[34m(dsn, pool, pool_alias, conn_class, params, **kwargs)\u001b[39m\n\u001b[32m   1262\u001b[39m     message = \u001b[33m\"\u001b[39m\u001b[33mpool must be an instance of oracledb.ConnectionPool\u001b[39m\u001b[33m\"\u001b[39m\n\u001b[32m   1263\u001b[39m     \u001b[38;5;28;01mraise\u001b[39;00m \u001b[38;5;167;01mTypeError\u001b[39;00m(message)\n\u001b[32m-> \u001b[39m\u001b[32m1264\u001b[39m \u001b[38;5;28;01mreturn\u001b[39;00m \u001b[43mconn_class\u001b[49m\u001b[43m(\u001b[49m\u001b[43mdsn\u001b[49m\u001b[43m=\u001b[49m\u001b[43mdsn\u001b[49m\u001b[43m,\u001b[49m\u001b[43m \u001b[49m\u001b[43mpool\u001b[49m\u001b[43m=\u001b[49m\u001b[43mpool\u001b[49m\u001b[43m,\u001b[49m\u001b[43m \u001b[49m\u001b[43mparams\u001b[49m\u001b[43m=\u001b[49m\u001b[43mparams\u001b[49m\u001b[43m,\u001b[49m\u001b[43m \u001b[49m\u001b[43m*\u001b[49m\u001b[43m*\u001b[49m\u001b[43mkwargs\u001b[49m\u001b[43m)\u001b[49m\n",
      "\u001b[36mFile \u001b[39m\u001b[32mc:\\Users\\codyc\\anaconda3\\Lib\\site-packages\\oracledb\\connection.py:649\u001b[39m, in \u001b[36mConnection.__init__\u001b[39m\u001b[34m(self, dsn, pool, params, **kwargs)\u001b[39m\n\u001b[32m    647\u001b[39m     \u001b[38;5;28;01melse\u001b[39;00m:\n\u001b[32m    648\u001b[39m         impl = thin_impl.ThinConnImpl(dsn, params_impl)\n\u001b[32m--> \u001b[39m\u001b[32m649\u001b[39m         \u001b[43mimpl\u001b[49m\u001b[43m.\u001b[49m\u001b[43mconnect\u001b[49m\u001b[43m(\u001b[49m\u001b[43mparams_impl\u001b[49m\u001b[43m)\u001b[49m\n\u001b[32m    650\u001b[39m \u001b[38;5;28;01melse\u001b[39;00m:\n\u001b[32m    651\u001b[39m     impl = thick_impl.ThickConnImpl(dsn, params_impl)\n",
      "\u001b[36mFile \u001b[39m\u001b[32msrc\\\\oracledb\\\\impl/thin/connection.pyx:462\u001b[39m, in \u001b[36moracledb.thin_impl.ThinConnImpl.connect\u001b[39m\u001b[34m()\u001b[39m\n",
      "\u001b[36mFile \u001b[39m\u001b[32msrc\\\\oracledb\\\\impl/thin/connection.pyx:458\u001b[39m, in \u001b[36moracledb.thin_impl.ThinConnImpl.connect\u001b[39m\u001b[34m()\u001b[39m\n",
      "\u001b[36mFile \u001b[39m\u001b[32msrc\\\\oracledb\\\\impl/thin/connection.pyx:419\u001b[39m, in \u001b[36moracledb.thin_impl.ThinConnImpl._connect_with_params\u001b[39m\u001b[34m()\u001b[39m\n",
      "\u001b[36mFile \u001b[39m\u001b[32msrc\\\\oracledb\\\\impl/thin/connection.pyx:400\u001b[39m, in \u001b[36moracledb.thin_impl.ThinConnImpl._connect_with_description\u001b[39m\u001b[34m()\u001b[39m\n",
      "\u001b[36mFile \u001b[39m\u001b[32msrc\\\\oracledb\\\\impl/thin/connection.pyx:358\u001b[39m, in \u001b[36moracledb.thin_impl.ThinConnImpl._connect_with_address\u001b[39m\u001b[34m()\u001b[39m\n",
      "\u001b[36mFile \u001b[39m\u001b[32msrc\\\\oracledb\\\\impl/thin/protocol.pyx:233\u001b[39m, in \u001b[36moracledb.thin_impl.Protocol._connect_phase_one\u001b[39m\u001b[34m()\u001b[39m\n",
      "\u001b[36mFile \u001b[39m\u001b[32msrc\\\\oracledb\\\\impl/thin/protocol.pyx:367\u001b[39m, in \u001b[36moracledb.thin_impl.Protocol._connect_tcp\u001b[39m\u001b[34m()\u001b[39m\n",
      "\u001b[36mFile \u001b[39m\u001b[32mc:\\Users\\codyc\\anaconda3\\Lib\\socket.py:857\u001b[39m, in \u001b[36mcreate_connection\u001b[39m\u001b[34m(address, timeout, source_address, all_errors)\u001b[39m\n\u001b[32m    855\u001b[39m \u001b[38;5;28;01mexcept\u001b[39;00m error \u001b[38;5;28;01mas\u001b[39;00m exc:\n\u001b[32m    856\u001b[39m     \u001b[38;5;28;01mif\u001b[39;00m \u001b[38;5;129;01mnot\u001b[39;00m all_errors:\n\u001b[32m--> \u001b[39m\u001b[32m857\u001b[39m         \u001b[43mexceptions\u001b[49m\u001b[43m.\u001b[49m\u001b[43mclear\u001b[49m\u001b[43m(\u001b[49m\u001b[43m)\u001b[49m  \u001b[38;5;66;03m# raise only the last error\u001b[39;00m\n\u001b[32m    858\u001b[39m     exceptions.append(exc)\n\u001b[32m    859\u001b[39m     \u001b[38;5;28;01mif\u001b[39;00m sock \u001b[38;5;129;01mis\u001b[39;00m \u001b[38;5;129;01mnot\u001b[39;00m \u001b[38;5;28;01mNone\u001b[39;00m:\n",
      "\u001b[31mKeyboardInterrupt\u001b[39m: "
     ]
    }
   ],
   "source": [
    "import oracledb\n",
    "\n",
    "conn = oracledb.connect(\n",
    "    user=\"S25_crc140\",\n",
    "    password=\"xs43qECa\",\n",
    "    dsn=\"oracle2.wiu.edu:1521/orclpdb1\"  # or your database info\n",
    ")\n",
    "\n",
    "cursor = conn.cursor()\n",
    "for x in cursor.execute(\"Select * from Hospitals\"):\n",
    "    print(x)"
   ]
  }
 ],
 "metadata": {
  "kernelspec": {
   "display_name": "base",
   "language": "python",
   "name": "python3"
  },
  "language_info": {
   "codemirror_mode": {
    "name": "ipython",
    "version": 3
   },
   "file_extension": ".py",
   "mimetype": "text/x-python",
   "name": "python",
   "nbconvert_exporter": "python",
   "pygments_lexer": "ipython3",
   "version": "3.12.7"
  }
 },
 "nbformat": 4,
 "nbformat_minor": 5
}
